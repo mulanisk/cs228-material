{
  "nbformat": 4,
  "nbformat_minor": 0,
  "metadata": {
    "colab": {
      "name": "Untitled0.ipynb",
      "provenance": [],
      "include_colab_link": true
    },
    "kernelspec": {
      "name": "python3",
      "display_name": "Python 3"
    }
  },
  "cells": [
    {
      "cell_type": "markdown",
      "metadata": {
        "id": "view-in-github",
        "colab_type": "text"
      },
      "source": [
        "<a href=\"https://colab.research.google.com/github/mulanisk/cs228-material/blob/master/Untitled0.ipynb\" target=\"_parent\"><img src=\"https://colab.research.google.com/assets/colab-badge.svg\" alt=\"Open In Colab\"/></a>"
      ]
    },
    {
      "cell_type": "code",
      "metadata": {
        "id": "YLI8za84mPSY",
        "colab_type": "code",
        "colab": {
          "base_uri": "https://localhost:8080/",
          "height": 52
        },
        "outputId": "c24ce597-f4c3-46a7-84e0-431fe33c5ba8"
      },
      "source": [
        "import numpy as np\n",
        "a=np.array([[1,2,3,4],[5,6,7,8],[9,10,11,12]])\n",
        "print([a[1,2],a[1,3]])\n",
        "print([a[2,2],a[2,3]])"
      ],
      "execution_count": 13,
      "outputs": [
        {
          "output_type": "stream",
          "text": [
            "[7, 8]\n",
            "[11, 12]\n"
          ],
          "name": "stdout"
        }
      ]
    }
  ]
}